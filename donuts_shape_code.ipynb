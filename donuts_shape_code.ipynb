{
  "nbformat": 4,
  "nbformat_minor": 0,
  "metadata": {
    "colab": {
      "private_outputs": true,
      "provenance": [],
      "authorship_tag": "ABX9TyN/AgR/xZKRNmgyYzyWiJD1",
      "include_colab_link": true
    },
    "kernelspec": {
      "name": "python3",
      "display_name": "Python 3"
    },
    "language_info": {
      "name": "python"
    },
    "accelerator": "GPU",
    "gpuClass": "standard"
  },
  "cells": [
    {
      "cell_type": "markdown",
      "metadata": {
        "id": "view-in-github",
        "colab_type": "text"
      },
      "source": [
        "<a href=\"https://colab.research.google.com/github/ROKA505/Car-Price-Prediction/blob/master/donuts_shape_code.ipynb\" target=\"_parent\"><img src=\"https://colab.research.google.com/assets/colab-badge.svg\" alt=\"Open In Colab\"/></a>"
      ]
    },
    {
      "cell_type": "code",
      "source": [
        "import numpy as np\n",
        "\n",
        "screen_size = 40\n",
        "theta_spacing = 0.07\n",
        "phi_spacing = 0.02\n",
        "illumination = np.fromiter(\".,-~:;=!*#$@\", dtype=\"<U1\")\n",
        "\n",
        "A = 1\n",
        "B = 1\n",
        "R1 = 1\n",
        "R2 = 2\n",
        "K2 = 5\n",
        "K1 = screen_size * K2 * 3 / (8 * (R1 + R2))\n",
        "\n",
        "\n",
        "def render_frame(A: float, B: float) -> np.ndarray:\n",
        "    \"\"\"\n",
        "    Returns a frame of the spinning 3D donut.\n",
        "    Based on the pseudocode from: https://www.a1k0n.net/2011/07/20/donut-math.html\n",
        "    \"\"\"\n",
        "    cos_A = np.cos(A)\n",
        "    sin_A = np.sin(A)\n",
        "    cos_B = np.cos(B)\n",
        "    sin_B = np.sin(B)\n",
        "\n",
        "    output = np.full((screen_size, screen_size), \" \")  # (40, 40)\n",
        "    zbuffer = np.zeros((screen_size, screen_size))  # (40, 40)\n",
        "\n",
        "    cos_phi = np.cos(phi := np.arange(0, 2 * np.pi, phi_spacing))  # (315,)\n",
        "    sin_phi = np.sin(phi)  # (315,)\n",
        "    cos_theta = np.cos(theta := np.arange(0, 2 * np.pi, theta_spacing))  # (90,)\n",
        "    sin_theta = np.sin(theta)  # (90,)\n",
        "    circle_x = R2 + R1 * cos_theta  # (90,)\n",
        "    circle_y = R1 * sin_theta  # (90,)\n",
        "\n",
        "    x = (np.outer(cos_B * cos_phi + sin_A * sin_B * sin_phi, circle_x) - circle_y * cos_A * sin_B).T  # (90, 315)\n",
        "    y = (np.outer(sin_B * cos_phi - sin_A * cos_B * sin_phi, circle_x) + circle_y * cos_A * cos_B).T  # (90, 315)\n",
        "    z = ((K2 + cos_A * np.outer(sin_phi, circle_x)) + circle_y * sin_A).T  # (90, 315)\n",
        "    ooz = np.reciprocal(z)  # Calculates 1/z\n",
        "    xp = (screen_size / 2 + K1 * ooz * x).astype(int)  # (90, 315)\n",
        "    yp = (screen_size / 2 - K1 * ooz * y).astype(int)  # (90, 315)\n",
        "    L1 = (((np.outer(cos_phi, cos_theta) * sin_B) - cos_A * np.outer(sin_phi, cos_theta)) - sin_A * sin_theta)  # (315, 90)\n",
        "    L2 = cos_B * (cos_A * sin_theta - np.outer(sin_phi, cos_theta * sin_A))  # (315, 90)\n",
        "    L = np.around(((L1 + L2) * 8)).astype(int).T  # (90, 315)\n",
        "    mask_L = L >= 0  # (90, 315)\n",
        "    chars = illumination[L]  # (90, 315)\n",
        "\n",
        "    for i in range(90):\n",
        "        mask = mask_L[i] & (ooz[i] > zbuffer[xp[i], yp[i]])  # (315,)\n",
        "\n",
        "        zbuffer[xp[i], yp[i]] = np.where(mask, ooz[i], zbuffer[xp[i], yp[i]])\n",
        "        output[xp[i], yp[i]] = np.where(mask, chars[i], output[xp[i], yp[i]])\n",
        "\n",
        "    return output\n",
        "\n",
        "\n",
        "def pprint(array: np.ndarray) -> None:\n",
        "    \"\"\"Pretty print the frame.\"\"\"\n",
        "    print(*[\" \".join(row) for row in array], sep=\"\\n\")\n",
        "\n",
        "\n",
        "if __name__ == \"__main__\":\n",
        "    for _ in range(screen_size * screen_size):\n",
        "        A += theta_spacing\n",
        "        B += phi_spacing\n",
        "        print(\"\\x1b[H\")\n",
        "        pprint(render_frame(A, B))"
      ],
      "metadata": {
        "id": "vtyQgbSMF8BK"
      },
      "execution_count": null,
      "outputs": []
    }
  ]
}